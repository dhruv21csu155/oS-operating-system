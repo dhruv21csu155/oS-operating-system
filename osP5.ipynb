{
  "nbformat": 4,
  "nbformat_minor": 0,
  "metadata": {
    "colab": {
      "provenance": [],
      "authorship_tag": "ABX9TyNxPKitqek1icViaEUiLG90",
      "include_colab_link": true
    },
    "kernelspec": {
      "name": "python3",
      "display_name": "Python 3"
    },
    "language_info": {
      "name": "python"
    }
  },
  "cells": [
    {
      "cell_type": "markdown",
      "metadata": {
        "id": "view-in-github",
        "colab_type": "text"
      },
      "source": [
        "<a href=\"https://colab.research.google.com/github/dhruv21csu155/oS-operating-system/blob/main/osP5.ipynb\" target=\"_parent\"><img src=\"https://colab.research.google.com/assets/colab-badge.svg\" alt=\"Open In Colab\"/></a>"
      ]
    },
    {
      "cell_type": "code",
      "execution_count": 1,
      "metadata": {
        "id": "0OAXJme6hIG7",
        "colab": {
          "base_uri": "https://localhost:8080/"
        },
        "outputId": "d0627a08-828b-49d9-8640-ae21b03895f1"
      },
      "outputs": [
        {
          "output_type": "stream",
          "name": "stdout",
          "text": [
            "\n",
            "\n",
            "Process\tBurst Time\tCompletion Time\tWaiting Time\tTurnaround Time\n",
            "P0\t\t2     \t\t2       \t\t0       \t\t2\n",
            "P1\t\t2     \t\t4       \t\t2       \t\t4\n",
            "P2\t\t3     \t\t7       \t\t4       \t\t7\n",
            "P3\t\t4     \t\t11       \t\t7       \t\t11\n",
            "\n",
            "Average Waiting Time: 3.25\n",
            "Average Turnaround Time: 6.0\n",
            "Gantt Chart:\n",
            "P0 | P1 | P2 | P3 | "
          ]
        }
      ],
      "source": [
        "def fcfs_without_arrival(processes, burst_time):\n",
        "    n = len(processes)\n",
        "    completion_time = [0] * n\n",
        "    waiting_time = [0] * n\n",
        "    turnaround_time = [0] * n\n",
        "\n",
        "    gantt_chart = []  # To store the Gantt chart information\n",
        "\n",
        "    completion_time[0] = burst_time[0]\n",
        "    turnaround_time[0] = completion_time[0]\n",
        "    waiting_time[0] = 0\n",
        "\n",
        "    gantt_chart.append((processes[0], 0, completion_time[0]))\n",
        "\n",
        "    for i in range(1, n):\n",
        "        completion_time[i] = completion_time[i-1] + burst_time[i]\n",
        "        turnaround_time[i] = completion_time[i]\n",
        "        waiting_time[i] = turnaround_time[i] - burst_time[i]\n",
        "\n",
        "        gantt_chart.append((processes[i], completion_time[i-1], completion_time[i]))\n",
        "\n",
        "    avg_waiting_time = sum(waiting_time) / n\n",
        "    avg_turnaround_time = sum(turnaround_time) / n\n",
        "\n",
        "    print(\"\\n\\nProcess\\tBurst Time\\tCompletion Time\\tWaiting Time\\tTurnaround Time\")\n",
        "    for i in range(n):\n",
        "        print(f\"P{i}\\t\\t{burst_time[i]}     \\t\\t{completion_time[i]}       \\t\\t{waiting_time[i]}       \\t\\t{turnaround_time[i]}\")\n",
        "\n",
        "    print(f\"\\nAverage Waiting Time: {avg_waiting_time}\")\n",
        "    print(f\"Average Turnaround Time: {avg_turnaround_time}\")\n",
        "\n",
        "    print(\"Gantt Chart:\")\n",
        "    for entry in gantt_chart:\n",
        "        print(f\"{entry[0]} |\", end=\" \")\n",
        "\n",
        "# Example usage:\n",
        "processes = ['P0', 'P1', 'P2', 'P3']\n",
        "burst_time = [2, 2, 3, 4]\n",
        "\n",
        "fcfs_without_arrival(processes, burst_time)"
      ]
    },
    {
      "cell_type": "code",
      "source": [
        "def fcfs_with_arrival(processes, burst_time, arrival_time):\n",
        "    n = len(processes)\n",
        "    completion_time = [0] * n\n",
        "    waiting_time = [0] * n\n",
        "    turnaround_time = [0] * n\n",
        "\n",
        "    gantt_chart = []  # To store the Gantt chart information\n",
        "\n",
        "    completion_time[0] = burst_time[0] + arrival_time[0]\n",
        "    turnaround_time[0] = completion_time[0] - arrival_time[0]\n",
        "    waiting_time[0] = turnaround_time[0] - burst_time[0]\n",
        "\n",
        "    gantt_chart.append((processes[0], arrival_time[0], completion_time[0]))\n",
        "\n",
        "    for i in range(1, n):\n",
        "        completion_time[i] = max(completion_time[i-1], arrival_time[i]) + burst_time[i]\n",
        "        turnaround_time[i] = completion_time[i] - arrival_time[i]\n",
        "        waiting_time[i] = turnaround_time[i] - burst_time[i]\n",
        "\n",
        "        gantt_chart.append((processes[i], completion_time[i-1], completion_time[i]))\n",
        "\n",
        "    avg_waiting_time = sum(waiting_time) / n\n",
        "    avg_turnaround_time = sum(turnaround_time) / n\n",
        "\n",
        "    print(\"\\n\\nProcess\\tBurst Time\\tArrival Time\\tCompletion Time\\tWaiting Time\\tTurnaround Time\")\n",
        "    for i in range(n):\n",
        "        print(f\"P{i}\\t\\t{burst_time[i]}     \\t\\t{arrival_time[i]}        \\t\\t{completion_time[i]}       \\t\\t{waiting_time[i]}       \\t\\t{turnaround_time[i]}\")\n",
        "\n",
        "    print(f\"\\nAverage Waiting Time: {avg_waiting_time}\")\n",
        "    print(f\"Average Turnaround Time: {avg_turnaround_time}\")\n",
        "\n",
        "    print(\"Gantt Chart:\")\n",
        "    for entry in gantt_chart:\n",
        "        print(f\"{entry[0]} |\", end=\" \")\n",
        "\n",
        "# Example usage:\n",
        "processes = ['P0', 'P1', 'P2', 'P3']\n",
        "burst_time = [2, 2, 3, 4]\n",
        "arrival_time = [0, 1, 5, 6]\n",
        "\n",
        "fcfs_with_arrival(processes, burst_time, arrival_time)"
      ],
      "metadata": {
        "colab": {
          "base_uri": "https://localhost:8080/"
        },
        "id": "68jDJAQnbRGD",
        "outputId": "fd16a15f-2e3b-4281-a708-9296ed045373"
      },
      "execution_count": 2,
      "outputs": [
        {
          "output_type": "stream",
          "name": "stdout",
          "text": [
            "\n",
            "\n",
            "Process\tBurst Time\tArrival Time\tCompletion Time\tWaiting Time\tTurnaround Time\n",
            "P0\t\t2     \t\t0        \t\t2       \t\t0       \t\t2\n",
            "P1\t\t2     \t\t1        \t\t4       \t\t1       \t\t3\n",
            "P2\t\t3     \t\t5        \t\t8       \t\t0       \t\t3\n",
            "P3\t\t4     \t\t6        \t\t12       \t\t2       \t\t6\n",
            "\n",
            "Average Waiting Time: 0.75\n",
            "Average Turnaround Time: 3.5\n",
            "Gantt Chart:\n",
            "P0 | P1 | P2 | P3 | "
          ]
        }
      ]
    },
    {
      "cell_type": "code",
      "source": [],
      "metadata": {
        "id": "kuM-kgekcX5u"
      },
      "execution_count": null,
      "outputs": []
    }
  ]
}
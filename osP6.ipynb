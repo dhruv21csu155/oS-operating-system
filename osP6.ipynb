{
  "nbformat": 4,
  "nbformat_minor": 0,
  "metadata": {
    "colab": {
      "provenance": [],
      "authorship_tag": "ABX9TyNCEY3cfpx6JUGJ9YO7eFaQ",
      "include_colab_link": true
    },
    "kernelspec": {
      "name": "python3",
      "display_name": "Python 3"
    },
    "language_info": {
      "name": "python"
    }
  },
  "cells": [
    {
      "cell_type": "markdown",
      "metadata": {
        "id": "view-in-github",
        "colab_type": "text"
      },
      "source": [
        "<a href=\"https://colab.research.google.com/github/dhruv21csu155/oS-operating-system/blob/main/osP6.ipynb\" target=\"_parent\"><img src=\"https://colab.research.google.com/assets/colab-badge.svg\" alt=\"Open In Colab\"/></a>"
      ]
    },
    {
      "cell_type": "code",
      "execution_count": 1,
      "metadata": {
        "colab": {
          "base_uri": "https://localhost:8080/"
        },
        "id": "YoGbMfbfdV0p",
        "outputId": "8c1dc933-3131-45c7-f3c2-8eb96a498ea0"
      },
      "outputs": [
        {
          "output_type": "stream",
          "name": "stdout",
          "text": [
            "Process\tArival Time\tBurst Time\tCompletion Time\tTurn Around Time\tWaiting Time\t\n",
            "P3 \t 1 \t\t 2 \t\t 3 \t\t 2 \t\t 0\n",
            "P1 \t 1 \t\t 3 \t\t 6 \t\t 5 \t\t 2\n",
            "P2 \t 2 \t\t 4 \t\t 10 \t\t 8 \t\t 4\n",
            "P4 \t 4 \t\t 4 \t\t 14 \t\t 10 \t\t 6\n",
            "Average Turn Around Time: 6.25\n",
            "Average Waiting Time: 3.0\n",
            "Gantt Chart:\n",
            "P3 | P1 | P2 | P4 | "
          ]
        }
      ],
      "source": [
        "# write a code for SJF (Non-Preemptive)\n",
        "process=[\"P1\",\"P2\",\"P3\",\"P4\"]\n",
        "arival_time=[1,2,1,4]\n",
        "burst_time=[3,4,2,4]\n",
        "\n",
        "def SJF(process,arival_time,burst_time):\n",
        "    n=len(process)\n",
        "    wt=[0]*n\n",
        "    tat=[0]*n\n",
        "    ct=[0]*n\n",
        "    # rt=[0]*n\n",
        "    for i in range(n):\n",
        "        for j in range(n-i-1):\n",
        "            if burst_time[j]>burst_time[j+1]:\n",
        "                burst_time[j],burst_time[j+1]=burst_time[j+1],burst_time[j]\n",
        "                process[j],process[j+1]=process[j+1],process[j]\n",
        "                arival_time[j],arival_time[j+1]=arival_time[j+1],arival_time[j]\n",
        "    for i in range(n):\n",
        "        if i==0:\n",
        "            ct[i]=burst_time[i]+arival_time[i]\n",
        "        else:\n",
        "            ct[i]=ct[i-1]+burst_time[i]\n",
        "        tat[i]=ct[i]-arival_time[i]\n",
        "        wt[i]=tat[i]-burst_time[i]\n",
        "        # rt[i]=wt[i]\n",
        "    print(\"Process\\tArival Time\\tBurst Time\\tCompletion Time\\tTurn Around Time\\tWaiting Time\\t\")\n",
        "    for i in range(n):\n",
        "        print(process[i],\"\\t\",arival_time[i],\"\\t\\t\",burst_time[i],\"\\t\\t\",ct[i],\"\\t\\t\",tat[i],\"\\t\\t\",wt[i])\n",
        "    print(\"Average Turn Around Time:\",sum(tat)/n)\n",
        "    print(\"Average Waiting Time:\",sum(wt)/n)\n",
        "    #print(\"Average Response Time:\",sum(rt)/n)\n",
        "\n",
        "    # gantt chart\n",
        "    gantt_chart = []\n",
        "    for i in range(n):\n",
        "        gantt_chart.append((process[i],arival_time[i],ct[i]))\n",
        "    print(\"Gantt Chart:\")\n",
        "    for entry in gantt_chart:\n",
        "        print(f\"{entry[0]} |\", end=\" \")\n",
        "\n",
        "SJF(process,arival_time,burst_time)\n"
      ]
    },
    {
      "cell_type": "code",
      "source": [
        "def sjtf_preemptive(processes, burst_time, arrival_time):\n",
        "    n = len(processes)\n",
        "    remaining_time = burst_time.copy()\n",
        "    waiting_time = [0] * n\n",
        "    turnaround_time = [0] * n\n",
        "    completion_time = [0] * n\n",
        "    time = 0\n",
        "\n",
        "    gantt_chart = []\n",
        "\n",
        "#Find shortest remaining time:\n",
        "    while True:\n",
        "        smallest = float('inf')\n",
        "        shortest_process = -1 # nthing in process\n",
        "        flag = False\n",
        "\n",
        "        #cal which is shortest process\n",
        "        for i in range(n):\n",
        "            if arrival_time[i] <= time and remaining_time[i] > 0:\n",
        "                if remaining_time[i] < smallest:\n",
        "                    smallest = remaining_time[i]\n",
        "                    shortest_process = i\n",
        "                    flag = True\n",
        "\n",
        "        #idle case:\n",
        "        if not flag:\n",
        "            time += 1\n",
        "            gantt_chart.append(\"-\")\n",
        "            continue\n",
        "\n",
        "        #RT and CT for that process\n",
        "        remaining_time[shortest_process] -= 1\n",
        "        completion_time[shortest_process] = time + 1\n",
        "\n",
        "        gantt_chart.append(processes[shortest_process])\n",
        "\n",
        "        #Tat and WT cal\n",
        "        if remaining_time[shortest_process] == 0:\n",
        "            turnaround_time[shortest_process] = completion_time[shortest_process] - arrival_time[shortest_process]\n",
        "            waiting_time[shortest_process] = turnaround_time[shortest_process] - burst_time[shortest_process]\n",
        "\n",
        "        time += 1\n",
        "\n",
        "        #Taking Exit\n",
        "        if all(remaining_time[i] == 0 for i in range(n)):\n",
        "            break\n",
        "\n",
        "    total_waiting_time = sum(waiting_time)\n",
        "    total_turnaround_time = sum(turnaround_time)\n",
        "\n",
        "    avg_waiting_time = total_waiting_time / n\n",
        "    avg_turnaround_time = total_turnaround_time / n\n",
        "\n",
        "    return processes, waiting_time, turnaround_time, completion_time, avg_waiting_time, avg_turnaround_time, gantt_chart\n",
        "\n",
        "# Example Input:\n",
        "processes = [\"P1\", \"P2\", \"P3\", \"P4\"]\n",
        "burst_time = [5, 3, 4, 1]\n",
        "arrival_time = [0, 1, 2, 4]\n",
        "\n",
        "(processes, waiting_time, turnaround_time, completion_time, avg_waiting_time, avg_turnaround_time, gantt_chart) = sjtf_preemptive(processes, burst_time, arrival_time)\n",
        "\n",
        "# Print the result table\n",
        "print(\"Process\\tArrival Time\\tBurst Time\\tCompletion Time\\tTurnaround Time\\tWaiting Time\")\n",
        "for i in range(len(processes)):\n",
        "    print(f\"{processes[i]}   \\t{arrival_time[i]}       \\t\\t{burst_time[i]}    \\t\\t{completion_time[i]}       \\t\\t{turnaround_time[i]}       \\t\\t{waiting_time[i]}\")\n",
        "\n",
        "# Display Gantt Chart\n",
        "print(\"\\nGantt Chart:\")\n",
        "print(\"-------------\")\n",
        "for i in range(len(gantt_chart)):\n",
        "    print(f\"| {gantt_chart[i]} \", end=\"\")\n",
        "print(\"|\")\n",
        "print(\"-------------\")\n",
        "\n",
        "print(f\"Average Turnaround Time: {avg_turnaround_time}\")\n",
        "print(f\"Average Waiting Time: {avg_waiting_time}\")"
      ],
      "metadata": {
        "colab": {
          "base_uri": "https://localhost:8080/"
        },
        "id": "HKNsdC5BdWgp",
        "outputId": "20393e08-d076-45d3-98f5-99ab579a7607"
      },
      "execution_count": 2,
      "outputs": [
        {
          "output_type": "stream",
          "name": "stdout",
          "text": [
            "Process\tArrival Time\tBurst Time\tCompletion Time\tTurnaround Time\tWaiting Time\n",
            "P1   \t0       \t\t5    \t\t9       \t\t9       \t\t4\n",
            "P2   \t1       \t\t3    \t\t4       \t\t3       \t\t0\n",
            "P3   \t2       \t\t4    \t\t13       \t\t11       \t\t7\n",
            "P4   \t4       \t\t1    \t\t5       \t\t1       \t\t0\n",
            "\n",
            "Gantt Chart:\n",
            "-------------\n",
            "| P1 | P2 | P2 | P2 | P4 | P1 | P1 | P1 | P1 | P3 | P3 | P3 | P3 |\n",
            "-------------\n",
            "Average Turnaround Time: 6.0\n",
            "Average Waiting Time: 2.75\n"
          ]
        }
      ]
    },
    {
      "cell_type": "code",
      "source": [],
      "metadata": {
        "id": "dE8Y2qWKdyn6"
      },
      "execution_count": null,
      "outputs": []
    }
  ]
}